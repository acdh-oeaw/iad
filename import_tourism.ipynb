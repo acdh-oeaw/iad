{
 "cells": [
  {
   "cell_type": "code",
   "execution_count": null,
   "metadata": {},
   "outputs": [],
   "source": [
    "import pandas as pd\n",
    "file = \"data/4import_Database_Austria_March2018.xlsx\"\n",
    "df = pd.read_excel(file, \"TOURISM\")[3:]"
   ]
  },
  {
   "cell_type": "code",
   "execution_count": null,
   "metadata": {},
   "outputs": [],
   "source": [
    "df"
   ]
  },
  {
   "cell_type": "code",
   "execution_count": null,
   "metadata": {},
   "outputs": [],
   "source": [
    "for i, row in df.iterrows():\n",
    "    if row['*Site ID']:\n",
    "        temp_tourism, _ = Tourism.objects.get_or_create(\n",
    "            identifier=row['*Tourism ID']\n",
    "        )\n",
    "    if row['Public'] == \"yes\":\n",
    "            temp_tourism.public = True\n",
    "    # hook to site\n",
    "    temp_site, _ = Site.objects.get_or_create(\n",
    "        identifier=row['*Site ID']\n",
    "    )\n",
    "    temp_tourism.site_id = temp_site\n",
    "    temp_tourism.accessibility = row['Accessibility']\n",
    "    temp_tourism.visibility = row['Visibility']\n",
    "    temp_tourism.infrastructure = row['Infrastructure']\n",
    "    temp_tourism.long_term_management = row['Long-Term Management']\n",
    "    temp_tourism.potential_surrounding = row['Potential of the Surroundings']\n",
    "    temp_tourism.save()"
   ]
  },
  {
   "cell_type": "code",
   "execution_count": null,
   "metadata": {},
   "outputs": [],
   "source": []
  }
 ],
 "metadata": {
  "kernelspec": {
   "display_name": "Django Shell-Plus",
   "language": "python",
   "name": "django_extensions"
  },
  "language_info": {
   "codemirror_mode": {
    "name": "ipython",
    "version": 3
   },
   "file_extension": ".py",
   "mimetype": "text/x-python",
   "name": "python",
   "nbconvert_exporter": "python",
   "pygments_lexer": "ipython3",
   "version": "3.6.2"
  }
 },
 "nbformat": 4,
 "nbformat_minor": 2
}
