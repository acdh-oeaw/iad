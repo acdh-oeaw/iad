{
 "cells": [
  {
   "cell_type": "markdown",
   "metadata": {},
   "source": [
    "# legacy data (objects linked to periods and concepts)"
   ]
  },
  {
   "cell_type": "code",
   "execution_count": null,
   "metadata": {},
   "outputs": [],
   "source": [
    "import pandas as pd"
   ]
  },
  {
   "cell_type": "code",
   "execution_count": null,
   "metadata": {},
   "outputs": [],
   "source": [
    "site_periods = list(Site.objects.all().values_list('id', 'other_period__pref_label'))\n",
    "df = pd.DataFrame(site_periods, columns=['id', 'other_period__pref_label'])\n",
    "df.to_csv('site__other_period.csv', encoding='utf-8')"
   ]
  },
  {
   "cell_type": "code",
   "execution_count": null,
   "metadata": {},
   "outputs": [],
   "source": [
    "re_retype = list(ResearchEvent.objects.all().values_list('id', 'research_type__pref_label'))\n",
    "df = pd.DataFrame(re_retype, columns=['id', 'research_type__pref_label'])\n",
    "df.to_csv('re_research_type__pref_label.csv', encoding='utf-8')"
   ]
  },
  {
   "cell_type": "code",
   "execution_count": null,
   "metadata": {},
   "outputs": [],
   "source": [
    "re_retype = list(ResearchEvent.objects.all().values_list('id', 'research_method__pref_label'))\n",
    "df = pd.DataFrame(re_retype, columns=['id', 'research_type__pref_label'])\n",
    "df.to_csv('re_research_method__pref_label.csv', encoding='utf-8')"
   ]
  },
  {
   "cell_type": "code",
   "execution_count": null,
   "metadata": {},
   "outputs": [],
   "source": [
    "items = list(ArchEnt.objects.all().values_list('id', 'ent_type__pref_label'))\n",
    "df = pd.DataFrame(items, columns=['id', 'ent_type__pref_label'])\n",
    "df.to_csv('ae__ent_type__pref_label.csv', encoding='utf-8')"
   ]
  },
  {
   "cell_type": "code",
   "execution_count": null,
   "metadata": {},
   "outputs": [],
   "source": [
    "items = list(ArchEnt.objects.all().values_list('id', 'burial_type__pref_label'))\n",
    "df = pd.DataFrame(items, columns=['id', 'burial_type__pref_label'])\n",
    "df.to_csv('ae__burial_type.csv', encoding='utf-8')"
   ]
  },
  {
   "cell_type": "code",
   "execution_count": null,
   "metadata": {},
   "outputs": [],
   "source": [
    "items = list(ArchEnt.objects.all().values_list('id', 'burial_construction__pref_label'))\n",
    "df = pd.DataFrame(items, columns=['id', 'burial_construction__pref_label'])\n",
    "df.to_csv('ae__burial_construction.csv', encoding='utf-8')"
   ]
  },
  {
   "cell_type": "code",
   "execution_count": null,
   "metadata": {},
   "outputs": [],
   "source": [
    "items = list(ArchEnt.objects.all().values_list('id', 'settlement_fortification__pref_label'))\n",
    "df = pd.DataFrame(items, columns=['id', 'settlement_fortification__pref_label'])\n",
    "df.to_csv('ae__settlement_fortification.csv', encoding='utf-8')"
   ]
  },
  {
   "cell_type": "code",
   "execution_count": null,
   "metadata": {},
   "outputs": [],
   "source": [
    "items = list(ArchEnt.objects.all().values_list('id', 'settlement_occupation__pref_label'))\n",
    "df = pd.DataFrame(items, columns=['id', 'settlement_occupation__pref_label'])\n",
    "df.to_csv('ae__settlement_occupation.csv', encoding='utf-8')"
   ]
  },
  {
   "cell_type": "code",
   "execution_count": null,
   "metadata": {},
   "outputs": [],
   "source": [
    "items = list(ArchEnt.objects.all().values_list('id', 'topography__pref_label'))\n",
    "df = pd.DataFrame(items, columns=['id', 'topography__pref_label'])\n",
    "df.to_csv('ae__topography.csv', encoding='utf-8')"
   ]
  },
  {
   "cell_type": "code",
   "execution_count": null,
   "metadata": {},
   "outputs": [],
   "source": [
    "items = list(ArchEnt.objects.all().values_list('id', 'period__name'))\n",
    "df = pd.DataFrame(items, columns=['id', 'period__name'])\n",
    "df.to_csv('ae__period__name.csv', encoding='utf-8')"
   ]
  },
  {
   "cell_type": "code",
   "execution_count": null,
   "metadata": {},
   "outputs": [],
   "source": [
    "items = list(MonumentProtection.objects.all().values_list('id', 'current_land_use__pref_label'))\n",
    "df = pd.DataFrame(items, columns=['id', 'current_land_use__pref_label'])\n",
    "df.to_csv('mp__current_land_use.csv', encoding='utf-8')"
   ]
  },
  {
   "cell_type": "code",
   "execution_count": null,
   "metadata": {},
   "outputs": [],
   "source": [
    "items = list(MonumentProtection.objects.all().values_list('id', 'threats__pref_label'))\n",
    "df = pd.DataFrame(items, columns=['id', 'threats__pref_label'])\n",
    "df.to_csv('mp__threats.csv', encoding='utf-8')"
   ]
  },
  {
   "cell_type": "code",
   "execution_count": null,
   "metadata": {},
   "outputs": [],
   "source": []
  }
 ],
 "metadata": {
  "kernelspec": {
   "display_name": "Django Shell-Plus",
   "language": "python",
   "name": "django_extensions"
  },
  "language_info": {
   "codemirror_mode": {
    "name": "ipython",
    "version": 3
   },
   "file_extension": ".py",
   "mimetype": "text/x-python",
   "name": "python",
   "nbconvert_exporter": "python",
   "pygments_lexer": "ipython3",
   "version": "3.6.2"
  }
 },
 "nbformat": 4,
 "nbformat_minor": 2
}
