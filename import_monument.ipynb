{
 "cells": [
  {
   "cell_type": "code",
   "execution_count": null,
   "metadata": {},
   "outputs": [],
   "source": [
    "import pandas as pd\n",
    "file = \"data/4import_Database_Austria_March2018.xlsx\"\n",
    "df = pd.read_excel(file, \"MONUMENT PROTECTION\")[4:]"
   ]
  },
  {
   "cell_type": "code",
   "execution_count": null,
   "metadata": {},
   "outputs": [],
   "source": [
    "df"
   ]
  },
  {
   "cell_type": "code",
   "execution_count": null,
   "metadata": {},
   "outputs": [],
   "source": [
    "for i, row in df.iterrows():\n",
    "    if row['*SiteID']:\n",
    "        temp_monument, _ = MonumentProtection.objects.get_or_create(\n",
    "            identifier=row['*Monument Protection ID']\n",
    "        )\n",
    "        if row['Public'] == \"yes\":\n",
    "            temp_monument.public = True\n",
    "        # hook to site\n",
    "        temp_site, _ = Site.objects.get_or_create(\n",
    "            identifier=row['*SiteID']\n",
    "        )\n",
    "        temp_monument.site_id = temp_site\n",
    "        \n",
    "        if row['Threats']:\n",
    "            try:\n",
    "                for x in row['Threats'].split(','):\n",
    "                    temp_method,_ = SkosConcept.objects.get_or_create(\n",
    "                        pref_label=x\n",
    "                    )\n",
    "                    temp_monument.threats.add(temp_method)\n",
    "                    temp_monument.save()\n",
    "            except AttributeError:\n",
    "                pass\n",
    "                \n",
    "        \n",
    "        temp_monument.heritage_status = row['Heritage Status']\n",
    "        temp_monument.save()\n",
    "    "
   ]
  },
  {
   "cell_type": "code",
   "execution_count": null,
   "metadata": {},
   "outputs": [],
   "source": []
  }
 ],
 "metadata": {
  "kernelspec": {
   "display_name": "Django Shell-Plus",
   "language": "python",
   "name": "django_extensions"
  },
  "language_info": {
   "codemirror_mode": {
    "name": "ipython",
    "version": 3
   },
   "file_extension": ".py",
   "mimetype": "text/x-python",
   "name": "python",
   "nbconvert_exporter": "python",
   "pygments_lexer": "ipython3",
   "version": "3.6.2"
  }
 },
 "nbformat": 4,
 "nbformat_minor": 2
}
