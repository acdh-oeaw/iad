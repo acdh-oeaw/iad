{
 "cells": [
  {
   "cell_type": "code",
   "execution_count": null,
   "metadata": {},
   "outputs": [],
   "source": [
    "import pandas as pd\n",
    "from django.core.exceptions import ObjectDoesNotExist, FieldError\n",
    "file = \"archiv\\data\\Database_Vorarlberg_Correction_Progress.xlsx\"\n",
    "df = pd.read_excel(file, \"MONUMENT PROTECTION\")[3:].fillna('False')"
   ]
  },
  {
   "cell_type": "code",
   "execution_count": null,
   "metadata": {},
   "outputs": [],
   "source": [
    "failed_sites = []\n",
    "for i, row in df.iterrows():\n",
    "    try:\n",
    "        temp_site = Site.objects.get(identifier=row['*SiteID'])\n",
    "    except ObjectDoesNotExist:\n",
    "        failed_sites.append(row['*SiteID'])\n",
    "        temp_site = None\n",
    "    if temp_site:\n",
    "        temp_monument, _ = MonumentProtection.objects.get_or_create(\n",
    "            identifier=row['*Monument Protection ID']\n",
    "        )\n",
    "        temp_monument.site_id = temp_site\n",
    "        \n",
    "        if row['Public'] == \"yes\":\n",
    "            temp_monument.public = True\n",
    "    \n",
    "        if row['Unnamed: 9'] != 'False':\n",
    "            x = None\n",
    "            for x in row['Unnamed: 9'].split(';'):\n",
    "                x = x.strip()\n",
    "                try:\n",
    "                    item = SkosConcept.objects.get(pref_label=x)\n",
    "                except ObjectDoesNotExist:\n",
    "                    item = None\n",
    "                if item:\n",
    "                    temp_monument.current_land_use.add(item)\n",
    "        \n",
    "        if row['Threats'] != 'False':\n",
    "            item = None\n",
    "            x = None\n",
    "            for x in row['Threats'].split(','):\n",
    "                x = x.strip()\n",
    "                try:\n",
    "                    item = SkosConcept.objects.get(pref_label=x)\n",
    "                except ObjectDoesNotExist:\n",
    "                    item = None\n",
    "                if item:\n",
    "                    temp_monument.threats.add(item)\n",
    "        \n",
    "        if row['Heritage Status'] != 'False':\n",
    "            if row['Heritage Status'].endswith('no'):\n",
    "                temp_monument.heritage_status = False\n",
    "\n",
    "        temp_monument.save()\n",
    "    "
   ]
  },
  {
   "cell_type": "code",
   "execution_count": null,
   "metadata": {},
   "outputs": [],
   "source": [
    "MonumentProtection.objects.all().delete()"
   ]
  },
  {
   "cell_type": "code",
   "execution_count": null,
   "metadata": {},
   "outputs": [],
   "source": []
  }
 ],
 "metadata": {
  "kernelspec": {
   "display_name": "Django Shell-Plus",
   "language": "python",
   "name": "django_extensions"
  },
  "language_info": {
   "codemirror_mode": {
    "name": "ipython",
    "version": 3
   },
   "file_extension": ".py",
   "mimetype": "text/x-python",
   "name": "python",
   "nbconvert_exporter": "python",
   "pygments_lexer": "ipython3",
   "version": "3.6.2"
  }
 },
 "nbformat": 4,
 "nbformat_minor": 2
}
