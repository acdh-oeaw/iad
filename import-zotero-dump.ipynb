{
 "cells": [
  {
   "cell_type": "code",
   "execution_count": 3,
   "metadata": {},
   "outputs": [],
   "source": [
    "import pandas as pd"
   ]
  },
  {
   "cell_type": "code",
   "execution_count": 4,
   "metadata": {},
   "outputs": [],
   "source": [
    "file = \"data/IAD_database_literature.csv\""
   ]
  },
  {
   "cell_type": "code",
   "execution_count": 5,
   "metadata": {},
   "outputs": [],
   "source": [
    "df = pd.read_csv(file)"
   ]
  },
  {
   "cell_type": "code",
   "execution_count": 6,
   "metadata": {},
   "outputs": [],
   "source": [
    "failed = []"
   ]
  },
  {
   "cell_type": "code",
   "execution_count": 7,
   "metadata": {},
   "outputs": [],
   "source": [
    "for i, row in df.iterrows():\n",
    "    book, _ = Book.objects.get_or_create(\n",
    "        zoterokey=row['Key']\n",
    "    )\n",
    "    book.item_type = row['Item Type']\n",
    "    try:\n",
    "        book.save()\n",
    "    except:\n",
    "        failed.append(row['Item Type'])\n",
    "    try:\n",
    "        pub_year = int(row['Publication Year'])\n",
    "        book.publication_year = pub_year\n",
    "        book.save()\n",
    "    except:\n",
    "        failed.append(row['Publication Year'])\n",
    "    try:\n",
    "        book.author = row['Author']\n",
    "        book.save()\n",
    "    except:\n",
    "        failed.append(row['Author'])\n",
    "    try:\n",
    "        book.publication_title = row['Publititcation Title']\n",
    "        book.save()\n",
    "    except:\n",
    "        failed.append(row['Publication Title'])\n",
    "    try:\n",
    "        book.title = row['Title']\n",
    "        book.save()\n",
    "    except:\n",
    "        failed.append(row['Title'])\n",
    "    try:\n",
    "        book.isbn = row['ISBN']\n",
    "        book.save()\n",
    "    except:\n",
    "        failed.append(row['ISBN'])\n",
    "    try:\n",
    "        book.url = row['Url']\n",
    "        book.save()\n",
    "    except:\n",
    "        failed.append(row['Url'])"
   ]
  },
  {
   "cell_type": "code",
   "execution_count": null,
   "metadata": {
    "scrolled": false
   },
   "outputs": [],
   "source": [
    "for x in failed:\n",
    "    print(x)"
   ]
  },
  {
   "cell_type": "code",
   "execution_count": null,
   "metadata": {},
   "outputs": [],
   "source": []
  },
  {
   "cell_type": "code",
   "execution_count": null,
   "metadata": {},
   "outputs": [],
   "source": []
  }
 ],
 "metadata": {
  "kernelspec": {
   "display_name": "Django Shell-Plus",
   "language": "python",
   "name": "django_extensions"
  },
  "language_info": {
   "codemirror_mode": {
    "name": "ipython",
    "version": 3
   },
   "file_extension": ".py",
   "mimetype": "text/x-python",
   "name": "python",
   "nbconvert_exporter": "python",
   "pygments_lexer": "ipython3",
   "version": "3.6.2"
  }
 },
 "nbformat": 4,
 "nbformat_minor": 2
}
