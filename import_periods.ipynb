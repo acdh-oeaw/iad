{
 "cells": [
  {
   "cell_type": "code",
   "execution_count": null,
   "metadata": {},
   "outputs": [],
   "source": [
    "import pandas as pd"
   ]
  },
  {
   "cell_type": "code",
   "execution_count": null,
   "metadata": {},
   "outputs": [],
   "source": [
    "file =\"data/changed4import_IAD_Chronology.xlsx\""
   ]
  },
  {
   "cell_type": "code",
   "execution_count": null,
   "metadata": {},
   "outputs": [],
   "source": [
    "df = pd.read_excel(file)"
   ]
  },
  {
   "cell_type": "code",
   "execution_count": null,
   "metadata": {},
   "outputs": [],
   "source": [
    "df.fillna(value=False, inplace=True)"
   ]
  },
  {
   "cell_type": "code",
   "execution_count": null,
   "metadata": {
    "scrolled": true
   },
   "outputs": [],
   "source": [
    "df.head()"
   ]
  },
  {
   "cell_type": "code",
   "execution_count": null,
   "metadata": {},
   "outputs": [],
   "source": [
    "for i, row in df.iterrows():\n",
    "     # related places:\n",
    "    if isinstance(row['Country where this period is used in.'], str):\n",
    "        temp_nation, _ = Place.objects.get_or_create(\n",
    "                name=row['Country where this period is used in.']\n",
    "            )\n",
    "        temp_land, _ = Place.objects.get_or_create(\n",
    "                name=row[\"Region in which this period is used in.\"],\n",
    "            )\n",
    "        temp_land.part_of =  part_of=temp_nation\n",
    "        temp_land.save()\n",
    "    temp_period,_ = Period.objects.get_or_create(\n",
    "        name=row['unique_name'],\n",
    "        bibl=row['Bibliographic source for this period.']\n",
    "    )\n",
    "    temp_period.country = temp_nation\n",
    "    temp_period.region.add(temp_land)\n",
    "    # add the thousands of begin and end dates\n",
    "    if row['Earliest beginning of the period. Must be a number!'] and isinstance(row['Earliest beginning of the period. Must be a number!'], int):\n",
    "        temp_period.start_date = row['Earliest beginning of the period. Must be a number!']\n",
    "    if row['Latest beginning of the period. Must be a number!'] and isinstance(row['Latest beginning of the period. Must be a number!'], int):\n",
    "        temp_period.start_date_latest = row['Latest beginning of the period. Must be a number!']\n",
    "    if row['Earliest end of the period. Must be a number!'] and isinstance(row['Earliest end of the period. Must be a number!'], int):\n",
    "        temp_period.end_date = row['Earliest end of the period. Must be a number!']\n",
    "    if row['Latest end of the period. Must be a number!'] and isinstance(row['Latest end of the period. Must be a number!'], int):\n",
    "        temp_period.end_date_latest = row['Latest end of the period. Must be a number!']\n",
    "    temp_period.save()"
   ]
  }
 ],
 "metadata": {
  "kernelspec": {
   "display_name": "Django Shell-Plus",
   "language": "python",
   "name": "django_extensions"
  },
  "language_info": {
   "codemirror_mode": {
    "name": "ipython",
    "version": 3
   },
   "file_extension": ".py",
   "mimetype": "text/x-python",
   "name": "python",
   "nbconvert_exporter": "python",
   "pygments_lexer": "ipython3",
   "version": "3.6.2"
  }
 },
 "nbformat": 4,
 "nbformat_minor": 2
}
