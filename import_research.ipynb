{
 "cells": [
  {
   "cell_type": "code",
   "execution_count": null,
   "metadata": {},
   "outputs": [],
   "source": [
    "import pandas as pd\n",
    "file = \"data/4import_Database_Austria_March2018.xlsx\"\n",
    "df = pd.read_excel(file, \"RESEARCH\")[2:]"
   ]
  },
  {
   "cell_type": "code",
   "execution_count": null,
   "metadata": {},
   "outputs": [],
   "source": [
    "df.fillna(value=False, inplace=True)"
   ]
  },
  {
   "cell_type": "code",
   "execution_count": null,
   "metadata": {
    "scrolled": true
   },
   "outputs": [],
   "source": [
    "df"
   ]
  },
  {
   "cell_type": "code",
   "execution_count": null,
   "metadata": {},
   "outputs": [],
   "source": [
    "for i, row in df.iterrows():\n",
    "    if row['*SiteID']:\n",
    "        temp_research, _ = ResearchEvent.objects.get_or_create(\n",
    "            identifier=row['*Research Activity ID']\n",
    "        )\n",
    "        temp_research.name = row['*Research Activity ID']\n",
    "        temp_research.start_date=row['Start Date']\n",
    "        temp_research.end_date=row['End Date']\n",
    "        if row['Comment']:\n",
    "            temp_research.comment=row['Comment']\n",
    "        \n",
    "        if row['Responsible Researcher']:\n",
    "            for x in row['Responsible Researcher'].split(','):\n",
    "                if x:\n",
    "                    temp_pers, _ = Person.objects.get_or_create(\n",
    "                        written_name=x\n",
    "                    )\n",
    "                    temp_research.responsible_researcher.add(temp_pers)\n",
    "        if row['Responsible Institution']:\n",
    "            for x in row['Responsible Institution'].split(','):\n",
    "                if x:\n",
    "                    temp_inst, _ = Institution.objects.get_or_create(\n",
    "                        written_name=x\n",
    "                    )\n",
    "                    temp_research.responsible_institution.add(temp_inst)\n",
    "        if row['Public'] == \"yes\":\n",
    "            temp_research.public = True\n",
    "        temp_research.save()\n",
    "        if row['Research Method']:\n",
    "            temp_method,_ = SkosConcept.objects.get_or_create(\n",
    "                pref_label=row['Research Method']\n",
    "            )\n",
    "            temp_research.research_method.add(temp_method)\n",
    "        \n",
    "        # hook to site\n",
    "        temp_site, _ = Site.objects.get_or_create(\n",
    "            identifier=row['*SiteID']\n",
    "        )\n",
    "        temp_site.information_source.add(temp_research)\n",
    "        temp_site.save()\n",
    "        temp_research.save()"
   ]
  },
  {
   "cell_type": "code",
   "execution_count": null,
   "metadata": {},
   "outputs": [],
   "source": []
  }
 ],
 "metadata": {
  "kernelspec": {
   "display_name": "Django Shell-Plus",
   "language": "python",
   "name": "django_extensions"
  },
  "language_info": {
   "codemirror_mode": {
    "name": "ipython",
    "version": 3
   },
   "file_extension": ".py",
   "mimetype": "text/x-python",
   "name": "python",
   "nbconvert_exporter": "python",
   "pygments_lexer": "ipython3",
   "version": "3.6.2"
  }
 },
 "nbformat": 4,
 "nbformat_minor": 2
}
