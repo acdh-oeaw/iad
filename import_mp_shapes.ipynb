{
 "cells": [
  {
   "cell_type": "code",
   "execution_count": null,
   "metadata": {},
   "outputs": [],
   "source": [
    "import geopandas as gp\n",
    "from django.contrib.gis import geos"
   ]
  },
  {
   "cell_type": "code",
   "execution_count": null,
   "metadata": {},
   "outputs": [],
   "source": [
    "file = r\"C:\\Users\\pandorfer\\Documents\\Redmine\\iad\\data\\Monument_protection_SI_poly\\monument protection_SI.shp\""
   ]
  },
  {
   "cell_type": "code",
   "execution_count": null,
   "metadata": {},
   "outputs": [],
   "source": [
    "df = gp.read_file(file).to_crs({'proj': 'longlat', 'ellps': 'WGS84', 'datum': 'WGS84'})"
   ]
  },
  {
   "cell_type": "code",
   "execution_count": null,
   "metadata": {},
   "outputs": [],
   "source": [
    "df.head()"
   ]
  },
  {
   "cell_type": "code",
   "execution_count": null,
   "metadata": {},
   "outputs": [],
   "source": [
    "for i, row in df.iterrows():\n",
    "    if row['geometry'].geom_type == 'MultiPolygon':\n",
    "        mp = row['geometry'].wkt\n",
    "    else:\n",
    "        mp = geos.MultiPolygon(geos.fromstr(row['geometry'].wkt))\n",
    "    temp, _ = MonumentProtection.objects.get_or_create(alt_id=row['Alt_ID'])\n",
    "    site, _ = Site.objects.get_or_create(id=row['IAD_ID'])\n",
    "    temp.site_id = site\n",
    "    #temp.name = row['name']\n",
    "    temp.polygon = mp\n",
    "    temp.save()"
   ]
  },
  {
   "cell_type": "code",
   "execution_count": null,
   "metadata": {},
   "outputs": [],
   "source": []
  }
 ],
 "metadata": {
  "kernelspec": {
   "display_name": "Django Shell-Plus",
   "language": "python",
   "name": "django_extensions"
  },
  "language_info": {
   "codemirror_mode": {
    "name": "ipython",
    "version": 3
   },
   "file_extension": ".py",
   "mimetype": "text/x-python",
   "name": "python",
   "nbconvert_exporter": "python",
   "pygments_lexer": "ipython3",
   "version": "3.6.6"
  }
 },
 "nbformat": 4,
 "nbformat_minor": 2
}
