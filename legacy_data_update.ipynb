{
 "cells": [
  {
   "cell_type": "code",
   "execution_count": null,
   "metadata": {},
   "outputs": [],
   "source": [
    "import pandas as pd\n",
    "from django.core.exceptions import ObjectDoesNotExist"
   ]
  },
  {
   "cell_type": "code",
   "execution_count": null,
   "metadata": {},
   "outputs": [],
   "source": [
    "df = pd.read_csv('site__other_period.csv', encoding=\"utf-8\")"
   ]
  },
  {
   "cell_type": "code",
   "execution_count": null,
   "metadata": {},
   "outputs": [],
   "source": [
    "df.keys()"
   ]
  },
  {
   "cell_type": "code",
   "execution_count": null,
   "metadata": {},
   "outputs": [],
   "source": [
    "for i, row in df.iterrows():\n",
    "    try:\n",
    "        item = Site.objects.get(id=row['id'])\n",
    "    except ObjectDoesNotExist:\n",
    "        item = None\n",
    "    try:\n",
    "        thing = SkosConcept.objects.get(pref_label=row['other_period__pref_label'])\n",
    "    except ObjectDoesNotExist:\n",
    "        thing = None\n",
    "    if item and thing:\n",
    "        item.other_period.add(thing)"
   ]
  },
  {
   "cell_type": "code",
   "execution_count": null,
   "metadata": {},
   "outputs": [],
   "source": [
    "df = pd.read_csv('ae__burial_construction.csv', encoding=\"utf-8\")\n",
    "df.keys()"
   ]
  },
  {
   "cell_type": "code",
   "execution_count": null,
   "metadata": {},
   "outputs": [],
   "source": [
    "for i, row in df.iterrows():\n",
    "    try:\n",
    "        item = ArchEnt.objects.get(id=row['id'])\n",
    "    except ObjectDoesNotExist:\n",
    "        item = None\n",
    "    try:\n",
    "        thing = SkosConcept.objects.get(pref_label=row['burial_construction__pref_label'])\n",
    "    except ObjectDoesNotExist:\n",
    "        thing = None\n",
    "    if item and thing:\n",
    "        item.burial_construction.add(thing)"
   ]
  },
  {
   "cell_type": "code",
   "execution_count": null,
   "metadata": {},
   "outputs": [],
   "source": [
    "df = pd.read_csv('ae__burial_type.csv', encoding=\"utf-8\")\n",
    "df.keys()"
   ]
  },
  {
   "cell_type": "code",
   "execution_count": null,
   "metadata": {},
   "outputs": [],
   "source": [
    "for i, row in df.iterrows():\n",
    "    try:\n",
    "        item = ArchEnt.objects.get(id=row['id'])\n",
    "    except ObjectDoesNotExist:\n",
    "        item = False\n",
    "    try:\n",
    "        thing = SkosConcept.objects.get(pref_label=row['burial_type__pref_label'])\n",
    "    except ObjectDoesNotExist:\n",
    "        thing = False\n",
    "    if item and thing:\n",
    "        item.burial_type = thing\n",
    "        item.save()"
   ]
  },
  {
   "cell_type": "code",
   "execution_count": null,
   "metadata": {},
   "outputs": [],
   "source": [
    "df = pd.read_csv('ae__ent_type__pref_label.csv', encoding=\"utf-8\")\n",
    "df.keys()"
   ]
  },
  {
   "cell_type": "code",
   "execution_count": null,
   "metadata": {},
   "outputs": [],
   "source": [
    "for i, row in df.iterrows():\n",
    "    try:\n",
    "        item = ArchEnt.objects.get(id=row['id'])\n",
    "    except ObjectDoesNotExist:\n",
    "        item = False\n",
    "    try:\n",
    "        thing = SkosConcept.objects.get(pref_label=row['ent_type__pref_label'])\n",
    "    except ObjectDoesNotExist:\n",
    "        thing = False\n",
    "    if item and thing:\n",
    "        item.ent_type = thing\n",
    "        item.save()"
   ]
  },
  {
   "cell_type": "code",
   "execution_count": null,
   "metadata": {},
   "outputs": [],
   "source": [
    "df = pd.read_csv('ae__settlement_fortification.csv', encoding=\"utf-8\")\n",
    "df.keys()"
   ]
  },
  {
   "cell_type": "code",
   "execution_count": null,
   "metadata": {},
   "outputs": [],
   "source": [
    "for i, row in df.iterrows():\n",
    "    try:\n",
    "        item = ArchEnt.objects.get(id=row['id'])\n",
    "    except ObjectDoesNotExist:\n",
    "        item = None\n",
    "    try:\n",
    "        thing = SkosConcept.objects.get(pref_label=row['settlement_fortification__pref_label'])\n",
    "    except ObjectDoesNotExist:\n",
    "        thing = None\n",
    "    if item and thing:\n",
    "        item.settlement_fortification.add(thing)"
   ]
  },
  {
   "cell_type": "code",
   "execution_count": null,
   "metadata": {},
   "outputs": [],
   "source": [
    "df = pd.read_csv('ae__settlement_occupation.csv', encoding=\"utf-8\")\n",
    "df.keys()"
   ]
  },
  {
   "cell_type": "code",
   "execution_count": null,
   "metadata": {},
   "outputs": [],
   "source": [
    "for i, row in df.iterrows():\n",
    "    try:\n",
    "        item = ArchEnt.objects.get(id=row['id'])\n",
    "    except ObjectDoesNotExist:\n",
    "        item = None\n",
    "    try:\n",
    "        thing = SkosConcept.objects.get(pref_label=row['settlement_occupation__pref_label'])\n",
    "    except ObjectDoesNotExist:\n",
    "        thing = None\n",
    "    if item and thing:\n",
    "        item.settlement_occupation = thing\n",
    "        item.save()"
   ]
  },
  {
   "cell_type": "code",
   "execution_count": null,
   "metadata": {},
   "outputs": [],
   "source": [
    "df = pd.read_csv('ae__topography.csv', encoding=\"utf-8\")\n",
    "df.keys()"
   ]
  },
  {
   "cell_type": "code",
   "execution_count": null,
   "metadata": {},
   "outputs": [],
   "source": [
    "for i, row in df.iterrows():\n",
    "    try:\n",
    "        item = ArchEnt.objects.get(id=row['id'])\n",
    "    except ObjectDoesNotExist:\n",
    "        item = None\n",
    "    try:\n",
    "        thing = SkosConcept.objects.get(pref_label=row['topography__pref_label'])\n",
    "    except ObjectDoesNotExist:\n",
    "        thing = None\n",
    "    if item and thing:\n",
    "        item.topography.add(thing)"
   ]
  },
  {
   "cell_type": "code",
   "execution_count": null,
   "metadata": {},
   "outputs": [],
   "source": [
    "df = pd.read_csv('mp__current_land_use.csv', encoding=\"utf-8\")\n",
    "df.keys()"
   ]
  },
  {
   "cell_type": "code",
   "execution_count": null,
   "metadata": {},
   "outputs": [],
   "source": [
    "for i, row in df.iterrows():\n",
    "    try:\n",
    "        item = MonumentProtection.objects.get(id=row['id'])\n",
    "    except ObjectDoesNotExist:\n",
    "        item = None\n",
    "    try:\n",
    "        thing = SkosConcept.objects.get(pref_label=row['current_land_use__pref_label'])\n",
    "    except ObjectDoesNotExist:\n",
    "        thing = None\n",
    "    if item and thing:\n",
    "        item.current_land_use.add(thing)"
   ]
  },
  {
   "cell_type": "code",
   "execution_count": null,
   "metadata": {},
   "outputs": [],
   "source": [
    "df = pd.read_csv('mp__threats.csv', encoding=\"utf-8\")\n",
    "df.keys()"
   ]
  },
  {
   "cell_type": "code",
   "execution_count": null,
   "metadata": {},
   "outputs": [],
   "source": [
    "for i, row in df.iterrows():\n",
    "    try:\n",
    "        item = MonumentProtection.objects.get(id=row['id'])\n",
    "    except ObjectDoesNotExist:\n",
    "        item = None\n",
    "    try:\n",
    "        thing = SkosConcept.objects.get(pref_label=row['threats__pref_label'])\n",
    "    except ObjectDoesNotExist:\n",
    "        thing = None\n",
    "    if item and thing:\n",
    "        item.threats.add(thing)"
   ]
  },
  {
   "cell_type": "code",
   "execution_count": null,
   "metadata": {},
   "outputs": [],
   "source": [
    "df = pd.read_csv('re_research_method__pref_label.csv', encoding=\"utf-8\")\n",
    "df.keys()"
   ]
  },
  {
   "cell_type": "code",
   "execution_count": null,
   "metadata": {},
   "outputs": [],
   "source": [
    "for i, row in df.iterrows():\n",
    "    try:\n",
    "        item = ResearchEvent.objects.get(id=row['id'])\n",
    "    except ObjectDoesNotExist:\n",
    "        item = None\n",
    "    try:\n",
    "        thing = SkosConcept.objects.get(pref_label=row['research_method__pref_label'])\n",
    "    except ObjectDoesNotExist:\n",
    "        thing = None\n",
    "    if item and thing:\n",
    "        item.research_method.add(thing)"
   ]
  },
  {
   "cell_type": "code",
   "execution_count": null,
   "metadata": {},
   "outputs": [],
   "source": [
    "df = pd.read_csv('re_research_type__pref_label.csv', encoding=\"utf-8\")\n",
    "df.keys()"
   ]
  },
  {
   "cell_type": "code",
   "execution_count": null,
   "metadata": {},
   "outputs": [],
   "source": [
    "for i, row in df.iterrows():\n",
    "    try:\n",
    "        item = ResearchEvent.objects.get(id=row['id'])\n",
    "    except ObjectDoesNotExist:\n",
    "        item = None\n",
    "    try:\n",
    "        thing = SkosConcept.objects.get(pref_label=row['research_type__pref_label'])\n",
    "    except ObjectDoesNotExist:\n",
    "        thing = None\n",
    "    if item and thing:\n",
    "        item.research_type = thing\n",
    "        item.save()"
   ]
  },
  {
   "cell_type": "code",
   "execution_count": null,
   "metadata": {},
   "outputs": [],
   "source": []
  }
 ],
 "metadata": {
  "kernelspec": {
   "display_name": "Django Shell-Plus",
   "language": "python",
   "name": "django_extensions"
  },
  "language_info": {
   "codemirror_mode": {
    "name": "ipython",
    "version": 3
   },
   "file_extension": ".py",
   "mimetype": "text/x-python",
   "name": "python",
   "nbconvert_exporter": "python",
   "pygments_lexer": "ipython3",
   "version": "3.6.2"
  }
 },
 "nbformat": 4,
 "nbformat_minor": 2
}
