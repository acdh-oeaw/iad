{
 "cells": [
  {
   "cell_type": "code",
   "execution_count": 1,
   "metadata": {},
   "outputs": [],
   "source": [
    "import pandas as pd\n",
    "from django.core.exceptions import ObjectDoesNotExist"
   ]
  },
  {
   "cell_type": "code",
   "execution_count": 5,
   "metadata": {},
   "outputs": [
    {
     "data": {
      "text/plain": [
       "Index(['Unnamed: 0', 'id', 'other_period__pref_label'], dtype='object')"
      ]
     },
     "execution_count": 5,
     "metadata": {},
     "output_type": "execute_result"
    }
   ],
   "source": [
    "df = pd.read_csv('site__other_period.csv', encoding=\"utf-8\")\n",
    "df.keys()"
   ]
  },
  {
   "cell_type": "code",
   "execution_count": 6,
   "metadata": {},
   "outputs": [],
   "source": [
    "for i, row in df.iterrows():\n",
    "    try:\n",
    "        item = Site.objects.get(id=row['id'])\n",
    "    except ObjectDoesNotExist:\n",
    "        item = None\n",
    "    try:\n",
    "        thing = SkosConcept.objects.get(pref_label=row['other_period__pref_label'])\n",
    "    except ObjectDoesNotExist:\n",
    "        thing = None\n",
    "    if item and thing:\n",
    "        item.other_period.add(thing)"
   ]
  },
  {
   "cell_type": "code",
   "execution_count": 2,
   "metadata": {},
   "outputs": [
    {
     "data": {
      "text/plain": [
       "Index(['Unnamed: 0', 'id', 'burial_construction__pref_label'], dtype='object')"
      ]
     },
     "execution_count": 2,
     "metadata": {},
     "output_type": "execute_result"
    }
   ],
   "source": [
    "df = pd.read_csv('ae__burial_construction.csv', encoding=\"utf-8\")\n",
    "df.keys()"
   ]
  },
  {
   "cell_type": "code",
   "execution_count": 3,
   "metadata": {},
   "outputs": [],
   "source": [
    "for i, row in df.iterrows():\n",
    "    try:\n",
    "        item = ArchEnt.objects.get(id=row['id'])\n",
    "    except ObjectDoesNotExist:\n",
    "        item = None\n",
    "    try:\n",
    "        thing = SkosConcept.objects.get(pref_label=row['burial_construction__pref_label'])\n",
    "    except ObjectDoesNotExist:\n",
    "        thing = None\n",
    "    if item and thing:\n",
    "        item.burial_construction.add(thing)"
   ]
  },
  {
   "cell_type": "code",
   "execution_count": 4,
   "metadata": {},
   "outputs": [
    {
     "data": {
      "text/plain": [
       "Index(['Unnamed: 0', 'id', 'burial_type__pref_label'], dtype='object')"
      ]
     },
     "execution_count": 4,
     "metadata": {},
     "output_type": "execute_result"
    }
   ],
   "source": [
    "df = pd.read_csv('ae__burial_type.csv', encoding=\"utf-8\")\n",
    "df.keys()"
   ]
  },
  {
   "cell_type": "code",
   "execution_count": 5,
   "metadata": {},
   "outputs": [],
   "source": [
    "for i, row in df.iterrows():\n",
    "    try:\n",
    "        item = ArchEnt.objects.get(id=row['id'])\n",
    "    except ObjectDoesNotExist:\n",
    "        item = False\n",
    "    try:\n",
    "        thing = SkosConcept.objects.get(pref_label=row['burial_type__pref_label'])\n",
    "    except ObjectDoesNotExist:\n",
    "        thing = False\n",
    "    if item and thing:\n",
    "        item.burial_type = thing\n",
    "        item.save()"
   ]
  },
  {
   "cell_type": "code",
   "execution_count": 6,
   "metadata": {},
   "outputs": [
    {
     "data": {
      "text/plain": [
       "Index(['Unnamed: 0', 'id', 'ent_type__pref_label'], dtype='object')"
      ]
     },
     "execution_count": 6,
     "metadata": {},
     "output_type": "execute_result"
    }
   ],
   "source": [
    "df = pd.read_csv('ae__ent_type__pref_label.csv', encoding=\"utf-8\")\n",
    "df.keys()"
   ]
  },
  {
   "cell_type": "code",
   "execution_count": 7,
   "metadata": {},
   "outputs": [],
   "source": [
    "for i, row in df.iterrows():\n",
    "    try:\n",
    "        item = ArchEnt.objects.get(id=row['id'])\n",
    "    except ObjectDoesNotExist:\n",
    "        item = False\n",
    "    try:\n",
    "        thing = SkosConcept.objects.get(pref_label=row['ent_type__pref_label'])\n",
    "    except ObjectDoesNotExist:\n",
    "        thing = False\n",
    "    if item and thing:\n",
    "        item.ent_type = thing\n",
    "        item.save()"
   ]
  },
  {
   "cell_type": "code",
   "execution_count": 23,
   "metadata": {},
   "outputs": [
    {
     "data": {
      "text/plain": [
       "Index(['Unnamed: 0', 'id', 'period__name'], dtype='object')"
      ]
     },
     "execution_count": 23,
     "metadata": {},
     "output_type": "execute_result"
    }
   ],
   "source": [
    "df = pd.read_csv('ae__period__name.csv', encoding=\"utf-8\")\n",
    "df.keys()"
   ]
  },
  {
   "cell_type": "code",
   "execution_count": 25,
   "metadata": {},
   "outputs": [],
   "source": [
    "for i, row in df.iterrows():\n",
    "    try:\n",
    "        item = ArchEnt.objects.get(id=row['id'])\n",
    "    except ObjectDoesNotExist:\n",
    "        item = None\n",
    "    try:\n",
    "        thing = Period.objects.get(name=row['period__name'])\n",
    "    except ObjectDoesNotExist:\n",
    "        thing = None\n",
    "    if item and thing:\n",
    "        item.period.add(thing)"
   ]
  },
  {
   "cell_type": "code",
   "execution_count": 8,
   "metadata": {},
   "outputs": [
    {
     "data": {
      "text/plain": [
       "Index(['Unnamed: 0', 'id', 'settlement_fortification__pref_label'], dtype='object')"
      ]
     },
     "execution_count": 8,
     "metadata": {},
     "output_type": "execute_result"
    }
   ],
   "source": [
    "df = pd.read_csv('ae__settlement_fortification.csv', encoding=\"utf-8\")\n",
    "df.keys()"
   ]
  },
  {
   "cell_type": "code",
   "execution_count": 9,
   "metadata": {},
   "outputs": [],
   "source": [
    "for i, row in df.iterrows():\n",
    "    try:\n",
    "        item = ArchEnt.objects.get(id=row['id'])\n",
    "    except ObjectDoesNotExist:\n",
    "        item = None\n",
    "    try:\n",
    "        thing = SkosConcept.objects.get(pref_label=row['settlement_fortification__pref_label'])\n",
    "    except ObjectDoesNotExist:\n",
    "        thing = None\n",
    "    if item and thing:\n",
    "        item.settlement_fortification.add(thing)"
   ]
  },
  {
   "cell_type": "code",
   "execution_count": 10,
   "metadata": {},
   "outputs": [
    {
     "data": {
      "text/plain": [
       "Index(['Unnamed: 0', 'id', 'settlement_occupation__pref_label'], dtype='object')"
      ]
     },
     "execution_count": 10,
     "metadata": {},
     "output_type": "execute_result"
    }
   ],
   "source": [
    "df = pd.read_csv('ae__settlement_occupation.csv', encoding=\"utf-8\")\n",
    "df.keys()"
   ]
  },
  {
   "cell_type": "code",
   "execution_count": 11,
   "metadata": {},
   "outputs": [],
   "source": [
    "for i, row in df.iterrows():\n",
    "    try:\n",
    "        item = ArchEnt.objects.get(id=row['id'])\n",
    "    except ObjectDoesNotExist:\n",
    "        item = None\n",
    "    try:\n",
    "        thing = SkosConcept.objects.get(pref_label=row['settlement_occupation__pref_label'])\n",
    "    except ObjectDoesNotExist:\n",
    "        thing = None\n",
    "    if item and thing:\n",
    "        item.settlement_occupation = thing\n",
    "        item.save()"
   ]
  },
  {
   "cell_type": "code",
   "execution_count": 12,
   "metadata": {},
   "outputs": [
    {
     "data": {
      "text/plain": [
       "Index(['Unnamed: 0', 'id', 'topography__pref_label'], dtype='object')"
      ]
     },
     "execution_count": 12,
     "metadata": {},
     "output_type": "execute_result"
    }
   ],
   "source": [
    "df = pd.read_csv('ae__topography.csv', encoding=\"utf-8\")\n",
    "df.keys()"
   ]
  },
  {
   "cell_type": "code",
   "execution_count": 13,
   "metadata": {},
   "outputs": [],
   "source": [
    "for i, row in df.iterrows():\n",
    "    try:\n",
    "        item = ArchEnt.objects.get(id=row['id'])\n",
    "    except ObjectDoesNotExist:\n",
    "        item = None\n",
    "    try:\n",
    "        thing = SkosConcept.objects.get(pref_label=row['topography__pref_label'])\n",
    "    except ObjectDoesNotExist:\n",
    "        thing = None\n",
    "    if item and thing:\n",
    "        item.topography.add(thing)"
   ]
  },
  {
   "cell_type": "code",
   "execution_count": 14,
   "metadata": {},
   "outputs": [
    {
     "data": {
      "text/plain": [
       "Index(['Unnamed: 0', 'id', 'current_land_use__pref_label'], dtype='object')"
      ]
     },
     "execution_count": 14,
     "metadata": {},
     "output_type": "execute_result"
    }
   ],
   "source": [
    "df = pd.read_csv('mp__current_land_use.csv', encoding=\"utf-8\")\n",
    "df.keys()"
   ]
  },
  {
   "cell_type": "code",
   "execution_count": 15,
   "metadata": {},
   "outputs": [],
   "source": [
    "for i, row in df.iterrows():\n",
    "    try:\n",
    "        item = MonumentProtection.objects.get(id=row['id'])\n",
    "    except ObjectDoesNotExist:\n",
    "        item = None\n",
    "    try:\n",
    "        thing = SkosConcept.objects.get(pref_label=row['current_land_use__pref_label'])\n",
    "    except ObjectDoesNotExist:\n",
    "        thing = None\n",
    "    if item and thing:\n",
    "        item.current_land_use.add(thing)"
   ]
  },
  {
   "cell_type": "code",
   "execution_count": 16,
   "metadata": {},
   "outputs": [
    {
     "data": {
      "text/plain": [
       "Index(['Unnamed: 0', 'id', 'threats__pref_label'], dtype='object')"
      ]
     },
     "execution_count": 16,
     "metadata": {},
     "output_type": "execute_result"
    }
   ],
   "source": [
    "df = pd.read_csv('mp__threats.csv', encoding=\"utf-8\")\n",
    "df.keys()"
   ]
  },
  {
   "cell_type": "code",
   "execution_count": 17,
   "metadata": {},
   "outputs": [],
   "source": [
    "for i, row in df.iterrows():\n",
    "    try:\n",
    "        item = MonumentProtection.objects.get(id=row['id'])\n",
    "    except ObjectDoesNotExist:\n",
    "        item = None\n",
    "    try:\n",
    "        thing = SkosConcept.objects.get(pref_label=row['threats__pref_label'])\n",
    "    except ObjectDoesNotExist:\n",
    "        thing = None\n",
    "    if item and thing:\n",
    "        item.threats.add(thing)"
   ]
  },
  {
   "cell_type": "code",
   "execution_count": 18,
   "metadata": {},
   "outputs": [
    {
     "data": {
      "text/plain": [
       "Index(['Unnamed: 0', 'id', 'research_method__pref_label'], dtype='object')"
      ]
     },
     "execution_count": 18,
     "metadata": {},
     "output_type": "execute_result"
    }
   ],
   "source": [
    "df = pd.read_csv('re_research_method__pref_label.csv', encoding=\"utf-8\")\n",
    "df.keys()"
   ]
  },
  {
   "cell_type": "code",
   "execution_count": 19,
   "metadata": {},
   "outputs": [],
   "source": [
    "for i, row in df.iterrows():\n",
    "    try:\n",
    "        item = ResearchEvent.objects.get(id=row['id'])\n",
    "    except ObjectDoesNotExist:\n",
    "        item = None\n",
    "    try:\n",
    "        thing = SkosConcept.objects.get(pref_label=row['research_method__pref_label'])\n",
    "    except ObjectDoesNotExist:\n",
    "        thing = None\n",
    "    if item and thing:\n",
    "        item.research_method.add(thing)"
   ]
  },
  {
   "cell_type": "code",
   "execution_count": 20,
   "metadata": {},
   "outputs": [
    {
     "data": {
      "text/plain": [
       "Index(['Unnamed: 0', 'id', 'research_type__pref_label'], dtype='object')"
      ]
     },
     "execution_count": 20,
     "metadata": {},
     "output_type": "execute_result"
    }
   ],
   "source": [
    "df = pd.read_csv('re_research_type__pref_label.csv', encoding=\"utf-8\")\n",
    "df.keys()"
   ]
  },
  {
   "cell_type": "code",
   "execution_count": 21,
   "metadata": {},
   "outputs": [],
   "source": [
    "for i, row in df.iterrows():\n",
    "    try:\n",
    "        item = ResearchEvent.objects.get(id=row['id'])\n",
    "    except ObjectDoesNotExist:\n",
    "        item = None\n",
    "    try:\n",
    "        thing = SkosConcept.objects.get(pref_label=row['research_type__pref_label'])\n",
    "    except ObjectDoesNotExist:\n",
    "        thing = None\n",
    "    if item and thing:\n",
    "        item.research_type = thing\n",
    "        item.save()"
   ]
  },
  {
   "cell_type": "code",
   "execution_count": null,
   "metadata": {},
   "outputs": [],
   "source": []
  }
 ],
 "metadata": {
  "kernelspec": {
   "display_name": "Django Shell-Plus",
   "language": "python",
   "name": "django_extensions"
  },
  "language_info": {
   "codemirror_mode": {
    "name": "ipython",
    "version": 3
   },
   "file_extension": ".py",
   "mimetype": "text/x-python",
   "name": "python",
   "nbconvert_exporter": "python",
   "pygments_lexer": "ipython3",
   "version": "3.6.2"
  }
 },
 "nbformat": 4,
 "nbformat_minor": 2
}
