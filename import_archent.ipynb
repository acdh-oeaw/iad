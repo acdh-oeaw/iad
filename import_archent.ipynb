{
 "cells": [
  {
   "cell_type": "code",
   "execution_count": null,
   "metadata": {},
   "outputs": [],
   "source": [
    "import pandas as pd"
   ]
  },
  {
   "cell_type": "code",
   "execution_count": null,
   "metadata": {},
   "outputs": [],
   "source": [
    "file = \"data/4import_Database_Austria_March2018.xlsx\""
   ]
  },
  {
   "cell_type": "code",
   "execution_count": null,
   "metadata": {},
   "outputs": [],
   "source": [
    "df = pd.read_excel(file, \"ENTITY\")[2:]"
   ]
  },
  {
   "cell_type": "code",
   "execution_count": null,
   "metadata": {},
   "outputs": [],
   "source": [
    "df = df[df['*Entity ID'].notnull()]"
   ]
  },
  {
   "cell_type": "code",
   "execution_count": null,
   "metadata": {},
   "outputs": [],
   "source": [
    "failed = []\n",
    "for i, row in df.iterrows():\n",
    "    enttype = row['ArchEntType']\n",
    "    site, _ = Site.objects.get_or_create(\n",
    "        identifier=row['*SiteID']\n",
    "    )\n",
    "    if isinstance(enttype, str):\n",
    "        vocab, _ = SkosConcept.objects.get_or_create(\n",
    "            pref_label = enttype\n",
    "        )       \n",
    "        temp_ent, _ = ArchEnt.objects.get_or_create(\n",
    "            identifier=row['*Entity ID'],\n",
    "            site_id=site\n",
    "        )\n",
    "        temp_ent.name=row['Entity Name']\n",
    "        temp_ent.comment=row['Comment']\n",
    "        if row['Public'] == \"yes\":\n",
    "            temp_ent.public = True\n",
    "        temp_ent.ent_type = vocab\n",
    "        temp_ent.save()\n",
    "    else:\n",
    "        failed.append(temp_ent)"
   ]
  },
  {
   "cell_type": "code",
   "execution_count": null,
   "metadata": {},
   "outputs": [],
   "source": [
    "failed"
   ]
  },
  {
   "cell_type": "code",
   "execution_count": null,
   "metadata": {},
   "outputs": [],
   "source": []
  }
 ],
 "metadata": {
  "kernelspec": {
   "display_name": "Django Shell-Plus",
   "language": "python",
   "name": "django_extensions"
  },
  "language_info": {
   "codemirror_mode": {
    "name": "ipython",
    "version": 3
   },
   "file_extension": ".py",
   "mimetype": "text/x-python",
   "name": "python",
   "nbconvert_exporter": "python",
   "pygments_lexer": "ipython3",
   "version": "3.6.2"
  }
 },
 "nbformat": 4,
 "nbformat_minor": 2
}
