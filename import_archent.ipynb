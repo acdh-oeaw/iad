{
 "cells": [
  {
   "cell_type": "code",
   "execution_count": null,
   "metadata": {},
   "outputs": [],
   "source": [
    "import pandas as pd\n",
    "from datetime import datetime\n",
    "from dateutil.parser import parse\n",
    "from django.core.exceptions import ObjectDoesNotExist, FieldError\n",
    "file = \"archiv\\data\\Database_Vorarlberg_Correction_Progress.xlsx\"\n",
    "df = pd.read_excel(file, \"ENTITY\")[3:].fillna('False')"
   ]
  },
  {
   "cell_type": "code",
   "execution_count": null,
   "metadata": {},
   "outputs": [],
   "source": [
    "failed_sites = []\n",
    "for i, row in df.iterrows():\n",
    "    temp_item = None\n",
    "    temp_site = None\n",
    "    if row['*SiteID'] != 'False':\n",
    "        try:\n",
    "            temp_site = Site.objects.get(identifier=row['*SiteID'])\n",
    "        except ObjectDoesNotExist:\n",
    "            failed_sites.append(row['*SiteID'])\n",
    "    if temp_site:\n",
    "        if row['*Entity ID'] != 'False':\n",
    "            temp_item, _ = ArchEnt.objects.get_or_create(identifier=row['*Entity ID'])\n",
    "            temp_item.site_id = temp_site\n",
    "            \n",
    "            if row['Entity Name'] != 'False':\n",
    "                temp_item.name = row['Entity Name']\n",
    "            \n",
    "            # needs to be applied on a cumulativ column\n",
    "#             if row['Entity type'] != 'False':\n",
    "#                 x = None\n",
    "#                 try:\n",
    "#                     x = SkosConcept.objects.get(pref_label=row['Entity type'])\n",
    "#                 except ObjectDoesNotExist:\n",
    "#                     x = None\n",
    "#                 if x:\n",
    "#                     temp_item.ent_type = x\n",
    "\n",
    "            \n",
    "            if row['Topography'] != 'False':\n",
    "                x = None\n",
    "                for x in row['Topography'].split(','):\n",
    "                    x = x.strip()\n",
    "                    try:\n",
    "                        y = SkosConcept.objects.get(pref_label=x)\n",
    "                    except ObjectDoesNotExist:\n",
    "                        y = None\n",
    "                    if y:\n",
    "                        temp_item.topography.add(y)\n",
    "            \n",
    "            if row['Entity Type Certainty'] != 'False':\n",
    "                temp_item.type_certainty = row['Entity Type Certainty']\n",
    "\n",
    "            if row['Dating certainty'] != 'False':\n",
    "                temp_item.dating_certainty = row['Dating certainty']\n",
    "            \n",
    "            if row['Location certainty'] != 'False':\n",
    "                temp_item.location_certainty = row['Location certainty']\n",
    "\n",
    "            if row['Comment'] != 'False':\n",
    "                temp_item.comment = row['Comment']\n",
    "            \n",
    "            temp_item.save()\n",
    "    "
   ]
  },
  {
   "cell_type": "code",
   "execution_count": null,
   "metadata": {},
   "outputs": [],
   "source": [
    "# ArchEnt.objects.all().delete()"
   ]
  }
 ],
 "metadata": {
  "kernelspec": {
   "display_name": "Django Shell-Plus",
   "language": "python",
   "name": "django_extensions"
  },
  "language_info": {
   "codemirror_mode": {
    "name": "ipython",
    "version": 3
   },
   "file_extension": ".py",
   "mimetype": "text/x-python",
   "name": "python",
   "nbconvert_exporter": "python",
   "pygments_lexer": "ipython3",
   "version": "3.6.2"
  }
 },
 "nbformat": 4,
 "nbformat_minor": 2
}
