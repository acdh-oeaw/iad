{
 "cells": [
  {
   "cell_type": "code",
   "execution_count": null,
   "metadata": {},
   "outputs": [],
   "source": [
    "import json\n",
    "from osgeo import ogr\n",
    "from django.contrib.gis import geos\n",
    "from django.contrib.gis.geos import fromstr\n",
    "from django.core.exceptions import ObjectDoesNotExist, FieldError"
   ]
  },
  {
   "cell_type": "code",
   "execution_count": null,
   "metadata": {},
   "outputs": [],
   "source": [
    "source = \"archiv/data/IAD DB Slovenia - RKD_polygon import/IAD DB Slovenia - RKD.shp\""
   ]
  },
  {
   "cell_type": "code",
   "execution_count": null,
   "metadata": {},
   "outputs": [],
   "source": [
    "shp = ogr.Open(source)"
   ]
  },
  {
   "cell_type": "code",
   "execution_count": null,
   "metadata": {},
   "outputs": [],
   "source": [
    "for i in range(shp.GetLayer(0).GetFeatureCount()):\n",
    "    temp_item = None\n",
    "    feature = None\n",
    "    site_id = None\n",
    "    archent_id = None\n",
    "    wkt = None\n",
    "    mp = None\n",
    "    feature = shp.GetLayer(0).GetFeature(i)\n",
    "    site_id = feature.GetField('ID_Site')\n",
    "    archent_id = feature.GetField('ID_Entity')\n",
    "    wkt = feature.geometry().ExportToWkt()\n",
    "    mp = geos.MultiPolygon(fromstr(wkt))\n",
    "    if site_id:\n",
    "        temp_item, _ = Site.objects.get_or_create(identifier=site_id)\n",
    "        if temp_item:\n",
    "            temp_item.polygon = mp\n",
    "            temp_item.save()\n",
    "    if archent_id:\n",
    "        temp_item, _ = ArchEnt.objects.get_or_create(identifier=archent_id)\n",
    "        if temp_item:\n",
    "            temp_item.polygon = mp\n",
    "            temp_item.save()"
   ]
  }
 ],
 "metadata": {
  "kernelspec": {
   "display_name": "Django Shell-Plus",
   "language": "python",
   "name": "django_extensions"
  },
  "language_info": {
   "codemirror_mode": {
    "name": "ipython",
    "version": 3
   },
   "file_extension": ".py",
   "mimetype": "text/x-python",
   "name": "python",
   "nbconvert_exporter": "python",
   "pygments_lexer": "ipython3",
   "version": "3.6.2"
  }
 },
 "nbformat": 4,
 "nbformat_minor": 2
}
