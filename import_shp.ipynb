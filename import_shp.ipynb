{
 "cells": [
  {
   "cell_type": "code",
   "execution_count": null,
   "metadata": {},
   "outputs": [],
   "source": [
    "import json\n",
    "from osgeo import ogr\n",
    "from django.contrib.gis import geos\n",
    "from django.contrib.gis.geos import fromstr\n",
    "from django.core.exceptions import ObjectDoesNotExist, FieldError"
   ]
  },
  {
   "cell_type": "code",
   "execution_count": null,
   "metadata": {},
   "outputs": [],
   "source": [
    "def import_shape(source, model):\n",
    "    shp = None\n",
    "    shp = ogr.Open(source)\n",
    "    for i in range(shp.GetLayer(0).GetFeatureCount()):\n",
    "        temp_item = None\n",
    "        feature = None\n",
    "        feature_id = None\n",
    "        wkt = None\n",
    "        mp = None\n",
    "        feature = shp.GetLayer(0).GetFeature(i)\n",
    "        feature_id = feature.GetField('identifier')\n",
    "        if feature.geometry():\n",
    "            wkt = feature.geometry().ExportToWkt()\n",
    "            try:\n",
    "                mp = geos.MultiPolygon(fromstr(wkt))\n",
    "            except TypeError:\n",
    "                mp = None\n",
    "            if feature_id and mp:\n",
    "                temp_item, _ = model.objects.get_or_create(identifier=feature_id)\n",
    "                if temp_item:\n",
    "                    temp_item.polygon = mp\n",
    "                    temp_item.save()"
   ]
  },
  {
   "cell_type": "code",
   "execution_count": null,
   "metadata": {},
   "outputs": [],
   "source": [
    "hansi = import_shape('dumps/shps/monument.shp', MonumentProtection)"
   ]
  }
 ],
 "metadata": {
  "kernelspec": {
   "display_name": "Django Shell-Plus",
   "language": "python",
   "name": "django_extensions"
  },
  "language_info": {
   "codemirror_mode": {
    "name": "ipython",
    "version": 3
   },
   "file_extension": ".py",
   "mimetype": "text/x-python",
   "name": "python",
   "nbconvert_exporter": "python",
   "pygments_lexer": "ipython3",
   "version": "3.6.2"
  }
 },
 "nbformat": 4,
 "nbformat_minor": 2
}
