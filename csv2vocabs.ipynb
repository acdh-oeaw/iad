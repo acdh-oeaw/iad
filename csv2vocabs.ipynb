{
 "cells": [
  {
   "cell_type": "code",
   "execution_count": 1,
   "metadata": {},
   "outputs": [],
   "source": [
    "import pandas as pd\n",
    "from django.utils.text import slugify"
   ]
  },
  {
   "cell_type": "code",
   "execution_count": 2,
   "metadata": {},
   "outputs": [],
   "source": [
    "file=\"data/IAD_Vocabulary_Import.xlsx\""
   ]
  },
  {
   "cell_type": "code",
   "execution_count": 3,
   "metadata": {},
   "outputs": [],
   "source": [
    "df = pd.read_excel(file)"
   ]
  },
  {
   "cell_type": "code",
   "execution_count": 4,
   "metadata": {},
   "outputs": [],
   "source": [
    "cols = df.shape[1]"
   ]
  },
  {
   "cell_type": "code",
   "execution_count": 5,
   "metadata": {},
   "outputs": [],
   "source": [
    "concepts = []\n",
    "for i, row in df.iterrows():\n",
    "    temp_scheme, _ = SkosConceptScheme.objects.get_or_create(\n",
    "        dc_title=slugify(row[0])\n",
    "    )\n",
    "    related_concepts = []\n",
    "    for x in range(1,cols):\n",
    "        if isinstance(row[x], str):\n",
    "            concept, _ = SkosConcept.objects.get_or_create(\n",
    "                pref_label=row[x]\n",
    "            )\n",
    "            concept.scheme.set([temp_scheme])\n",
    "            related_concepts.append(concept)\n",
    "    concepts.append(related_concepts)\n",
    "    "
   ]
  },
  {
   "cell_type": "code",
   "execution_count": 6,
   "metadata": {},
   "outputs": [],
   "source": [
    "for row in concepts:\n",
    "    x = 0\n",
    "    broader = None\n",
    "    narrower = None\n",
    "    while x != len(row):\n",
    "        broader = row[x]\n",
    "        try:\n",
    "            narrower = row[x+1]\n",
    "        except:\n",
    "            narrower = False\n",
    "        if narrower:\n",
    "            narrower.broader_concept = broader\n",
    "            narrower.save()\n",
    "        x +=1"
   ]
  },
  {
   "cell_type": "code",
   "execution_count": null,
   "metadata": {},
   "outputs": [],
   "source": []
  }
 ],
 "metadata": {
  "kernelspec": {
   "display_name": "Django Shell-Plus",
   "language": "python",
   "name": "django_extensions"
  },
  "language_info": {
   "codemirror_mode": {
    "name": "ipython",
    "version": 3
   },
   "file_extension": ".py",
   "mimetype": "text/x-python",
   "name": "python",
   "nbconvert_exporter": "python",
   "pygments_lexer": "ipython3",
   "version": "3.6.2"
  }
 },
 "nbformat": 4,
 "nbformat_minor": 2
}
