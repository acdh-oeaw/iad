{
 "cells": [
  {
   "cell_type": "code",
   "execution_count": null,
   "metadata": {},
   "outputs": [],
   "source": [
    "import pandas as pd\n",
    "from django.core.exceptions import ObjectDoesNotExist, FieldError\n",
    "from archiv.models import *"
   ]
  },
  {
   "cell_type": "code",
   "execution_count": null,
   "metadata": {},
   "outputs": [],
   "source": [
    "file = \"archiv\\data\\SI_DB_Import.xlsx\""
   ]
  },
  {
   "cell_type": "code",
   "execution_count": null,
   "metadata": {},
   "outputs": [],
   "source": [
    "df = pd.read_excel(file)[2:].fillna('False')"
   ]
  },
  {
   "cell_type": "code",
   "execution_count": null,
   "metadata": {},
   "outputs": [],
   "source": [
    "failed_periods = []\n",
    "failed_cadastralcommunities = []\n",
    "for i, row in df.iterrows():\n",
    "    if row['*Site ID'] != 'False':\n",
    "        temp_site,_ = Site.objects.get_or_create(\n",
    "            identifier=row['*Site ID']\n",
    "        )\n",
    "        if row['*Site Name'] != 'False':\n",
    "            temp_site.name=row['*Site Name']\n",
    "#         if row['Plot Number'] != 'False':\n",
    "#             temp_site.plot_number=row['Plot Number']\n",
    "        if row['Description\\n'] != 'False':\n",
    "            temp_site.description=row['Description\\n']\n",
    "\n",
    "    \n",
    "    # ownership\n",
    "    \n",
    "        if row['Ownership'] != 'False':\n",
    "            item = None\n",
    "            item = row['Ownership']\n",
    "            for x in SITE_OWNERSHIP:\n",
    "                if x[0].endswith(item):\n",
    "                    temp_site.ownership=x[0]\n",
    "        \n",
    "    \n",
    "    # public\n",
    "    \n",
    "        if row['Public'] != 'False':\n",
    "            if row['Public'] == 'yes':\n",
    "                temp_site.public = True\n",
    "    \n",
    "    # altnames\n",
    "\n",
    "        if row['Alternative Site Name'] != 'False':\n",
    "            x = None\n",
    "            for x in row['Alternative Site Name'].split(','):\n",
    "                x = x.strip()\n",
    "                temp_name, _ = AltName.objects.get_or_create(label=x)\n",
    "                temp_site.alt_name.add(temp_name)\n",
    "                temp_site.save()\n",
    "                \n",
    "\n",
    "    # related other_period\n",
    "    \n",
    "        if row['Other present periods'] != 'False':\n",
    "            for y in row['Other present periods'].split(','):\n",
    "                y = y.strip()\n",
    "                try:\n",
    "                    temp_period = SkosConcept.objects.get(pref_label__startswith=y)\n",
    "                    temp_site.other_period.add(temp_period)\n",
    "                except ObjectDoesNotExist:\n",
    "                    failed_periods.append(y)\n",
    "    \n",
    "     # related places:\n",
    "    \n",
    "        if row['Cadastral Community'] != 'False':\n",
    "            y = None\n",
    "            for y in row['Cadastral Community'].split(','):\n",
    "                y = y.strip()\n",
    "                try:\n",
    "                    temp_item = CadastralCommunity.objects.filter(cadcom_nam=y)\n",
    "                    if len(temp_item) == 1:\n",
    "                        temp_site.cadastral_community.add(temp_item[0])\n",
    "                    else:\n",
    "                        failed_cadastralcommunities.append(\"{} to many matches\".format(y))\n",
    "                except ObjectDoesNotExist:\n",
    "                    print(y)\n",
    "                    failed_cadastralcommunities.append(y)\n",
    "        \n",
    "        temp_site.save()\n"
   ]
  },
  {
   "cell_type": "code",
   "execution_count": null,
   "metadata": {},
   "outputs": [],
   "source": [
    "# TOURISM\n",
    "df = pd.read_excel(file, \"TOURISM\")[3:].fillna('False')"
   ]
  },
  {
   "cell_type": "code",
   "execution_count": null,
   "metadata": {},
   "outputs": [],
   "source": [
    "temp_site = None\n",
    "for i, row in df.iterrows():\n",
    "    if row['*Site ID'] != 'False':\n",
    "        temp_site = Site.objects.get(\n",
    "            identifier=row['*Site ID']\n",
    "        )\n",
    "        if row['Accessibility'] != 'False':\n",
    "            temp_site.accessibility = row['Accessibility']\n",
    "        \n",
    "        if row['Visibility'] != 'False':\n",
    "            temp_site.visibility = row['Visibility']\n",
    "        \n",
    "        if row['Infrastructure'] != 'False':\n",
    "            temp_site.infrastructure = row['Infrastructure']\n",
    "        \n",
    "        if row['Long-Term Management'] != 'False':\n",
    "            temp_site.long_term_management = row['Long-Term Management']\n",
    "        \n",
    "        if row['Potential of the Surroundings'] != 'False':\n",
    "            temp_site.potential_surrounding = row['Potential of the Surroundings']\n",
    "        \n",
    "        if row['App'] != 'False':\n",
    "            if row['App'] == 'no':\n",
    "                temp_site.iad_app = False\n",
    "            else:\n",
    "                temp_site.iad_app = True\n",
    "        \n",
    "        if row['AppDescription'] != 'False':\n",
    "            temp_site.app_description = row['AppDescription']\n",
    "        \n",
    "        if row['Comment'] != 'False':\n",
    "            temp_site.tourism_comment = row['Comment']\n",
    "                \n",
    "    \n",
    "    \n",
    "    temp_site.save()"
   ]
  },
  {
   "cell_type": "code",
   "execution_count": null,
   "metadata": {},
   "outputs": [],
   "source": [
    "# Site.objects.all().delete()"
   ]
  },
  {
   "cell_type": "code",
   "execution_count": null,
   "metadata": {},
   "outputs": [],
   "source": [
    "# ArchEnt.objects.all().delete()"
   ]
  },
  {
   "cell_type": "code",
   "execution_count": null,
   "metadata": {},
   "outputs": [],
   "source": [
    "# MonumentProtection.objects.all().delete()"
   ]
  },
  {
   "cell_type": "code",
   "execution_count": null,
   "metadata": {},
   "outputs": [],
   "source": [
    "# ResearchEvent.objects.all().delete()"
   ]
  },
  {
   "cell_type": "code",
   "execution_count": null,
   "metadata": {},
   "outputs": [],
   "source": []
  }
 ],
 "metadata": {
  "kernelspec": {
   "display_name": "Django Shell-Plus",
   "language": "python",
   "name": "django_extensions"
  },
  "language_info": {
   "codemirror_mode": {
    "name": "ipython",
    "version": 3
   },
   "file_extension": ".py",
   "mimetype": "text/x-python",
   "name": "python",
   "nbconvert_exporter": "python",
   "pygments_lexer": "ipython3",
   "version": "3.6.2"
  }
 },
 "nbformat": 4,
 "nbformat_minor": 2
}
