{
 "cells": [
  {
   "cell_type": "code",
   "execution_count": null,
   "metadata": {},
   "outputs": [],
   "source": [
    "import pandas as pd"
   ]
  },
  {
   "cell_type": "code",
   "execution_count": null,
   "metadata": {},
   "outputs": [],
   "source": [
    "file = \"data/4import_Database_Austria_March2018.xlsx\""
   ]
  },
  {
   "cell_type": "code",
   "execution_count": null,
   "metadata": {},
   "outputs": [],
   "source": [
    "def clean_coords(cord):\n",
    "    lat = str(cord).replace(',', '.')\n",
    "    lat = lat.replace('°', '')\n",
    "    return float(lat)"
   ]
  },
  {
   "cell_type": "code",
   "execution_count": null,
   "metadata": {},
   "outputs": [],
   "source": [
    "df = pd.read_excel(file)[1:]"
   ]
  },
  {
   "cell_type": "code",
   "execution_count": null,
   "metadata": {},
   "outputs": [],
   "source": [
    "df"
   ]
  },
  {
   "cell_type": "code",
   "execution_count": null,
   "metadata": {},
   "outputs": [],
   "source": [
    "other_period_scheme, _ = SkosConceptScheme.objects.get_or_create(dc_title=\"otherperiods\")"
   ]
  },
  {
   "cell_type": "code",
   "execution_count": null,
   "metadata": {},
   "outputs": [],
   "source": [
    "failed = []\n",
    "for i, row in df.iterrows():\n",
    "    temp_site,_ = Site.objects.get_or_create(\n",
    "        identifier=row['*Site ID']\n",
    "    )\n",
    "    temp_site.name=row['*Site Name']\n",
    "    temp_site.cadastral_number=row['Cadastral Number']\n",
    "    temp_site.plot_number=row['Plot Number']\n",
    "    temp_site.description = row['Description\\n']\n",
    "    \n",
    "    # related other_period\n",
    "    \n",
    "    if isinstance(row['Other present periods'], str):\n",
    "        for y in row['Other present periods'].split(';'):\n",
    "            temp_period, _ = SkosConcept.objects.get_or_create(\n",
    "                pref_label=y,\n",
    "                scheme__in=[other_period_scheme]\n",
    "            )\n",
    "            temp_site.other_period.add(temp_period)\n",
    "    \n",
    "    # related places:\n",
    "    if isinstance(row['Cadastral Community'], str):\n",
    "        temp_nation, _ = Place.objects.get_or_create(\n",
    "                name=row['*Country']\n",
    "            )\n",
    "        temp_land, _ = Place.objects.get_or_create(\n",
    "                name=row['Municipiality/community'],\n",
    "                part_of=temp_nation\n",
    "            )\n",
    "        temp_county, _ = Place.objects.get_or_create(\n",
    "                name=row['County'], part_of=temp_land\n",
    "            )\n",
    "        lat = clean_coords(row['Coordinates N (Lat)'])\n",
    "        lng = clean_coords(row['Coordinates E (Long)'])\n",
    "    \n",
    "        for x in row['Cadastral Community'].split(\";\"):\n",
    "            temp_place, _ = Place.objects.get_or_create(\n",
    "                name=x, part_of=temp_county, lat=lat, lng=lng\n",
    "            )\n",
    "            temp_site.cadastral_community.add(temp_place)\n",
    "            \n",
    "            try:\n",
    "                temp_site.save()\n",
    "            except:\n",
    "                pass\n",
    "    if row['Public'] == \"yes\":\n",
    "        temp_site.public = True\n",
    "    try:\n",
    "        temp_site.save()\n",
    "    except:\n",
    "        failed.append(temp_site)"
   ]
  },
  {
   "cell_type": "code",
   "execution_count": null,
   "metadata": {},
   "outputs": [],
   "source": [
    "for i, row in df.iterrows():\n",
    "    enttype = row['ArchEntType']\n",
    "    site, _ = Site.objects.get_or_create(\n",
    "        identifier=row['*SiteID']\n",
    "    )\n",
    "    if isinstance(enttype, str):\n",
    "        vocab, _ = SkosConcept.objects.get_or_create(\n",
    "            pref_label = enttype\n",
    "        )\n",
    "        print(enttype)\n",
    "        \n",
    "        temp_ent, _ = ArchEnt.objects.get_or_create(\n",
    "            identifier=row['*Entity ID'],\n",
    "            site_id=site\n",
    "        )\n",
    "        temp_ent.name=row['Entity Name']\n",
    "        temp_ent.comment=row['Comment']\n",
    "        if row['Public'] == \"yes\":\n",
    "            temp_ent.public = True\n",
    "        temp_ent.ent_type = vocab\n",
    "        temp_ent.save()\n",
    "        \n",
    "    else:\n",
    "        print(site)"
   ]
  }
 ],
 "metadata": {
  "kernelspec": {
   "display_name": "Django Shell-Plus",
   "language": "python",
   "name": "django_extensions"
  },
  "language_info": {
   "codemirror_mode": {
    "name": "ipython",
    "version": 3
   },
   "file_extension": ".py",
   "mimetype": "text/x-python",
   "name": "python",
   "nbconvert_exporter": "python",
   "pygments_lexer": "ipython3",
   "version": "3.6.2"
  }
 },
 "nbformat": 4,
 "nbformat_minor": 2
}
