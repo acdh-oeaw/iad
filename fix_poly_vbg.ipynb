{
 "cells": [
  {
   "cell_type": "code",
   "execution_count": null,
   "metadata": {},
   "outputs": [],
   "source": [
    "from django.contrib.gis.db.models import Union\n",
    "from django.contrib.gis.geos import fromstr, MultiPolygon\n",
    "from django.contrib.gis.db.models.functions import MakeValid"
   ]
  },
  {
   "cell_type": "code",
   "execution_count": null,
   "metadata": {
    "scrolled": true
   },
   "outputs": [],
   "source": [
    "sites = Site.objects.filter(cadastral_community__nuts2nam__in=['Tirol', 'Vorarlberg']).distinct()\n",
    "# ArchEnt.objects.exclude(polygon=None).filter(polygon__isvalid=True).update(polygon=MakeValid('polygon'))"
   ]
  },
  {
   "cell_type": "code",
   "execution_count": null,
   "metadata": {},
   "outputs": [],
   "source": [
    "for x in sites:\n",
    "    hully = x.has_archent.exclude(polygon=None).filter(polygon__isvalid=True).aggregate(combined=Union('polygon'))['combined']\n",
    "    if hully is None:\n",
    "        print(x.id)\n",
    "    else:\n",
    "        if hully.geom_type == 'MultiPolygon':\n",
    "            x.polygon = hully\n",
    "        else:\n",
    "            x.polygon = MultiPolygon(hully)\n",
    "        x.save()"
   ]
  },
  {
   "cell_type": "code",
   "execution_count": null,
   "metadata": {},
   "outputs": [],
   "source": []
  }
 ],
 "metadata": {
  "kernelspec": {
   "display_name": "Django Shell-Plus",
   "language": "python",
   "name": "django_extensions"
  },
  "language_info": {
   "codemirror_mode": {
    "name": "ipython",
    "version": 3
   },
   "file_extension": ".py",
   "mimetype": "text/x-python",
   "name": "python",
   "nbconvert_exporter": "python",
   "pygments_lexer": "ipython3",
   "version": "3.6.6"
  }
 },
 "nbformat": 4,
 "nbformat_minor": 2
}
