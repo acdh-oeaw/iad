{
 "cells": [
  {
   "cell_type": "code",
   "execution_count": null,
   "metadata": {},
   "outputs": [],
   "source": [
    "import pandas as pd"
   ]
  },
  {
   "cell_type": "code",
   "execution_count": null,
   "metadata": {},
   "outputs": [],
   "source": [
    "# make sure all save have a centroid\n",
    "# [x.save() for x in Site.objects.all()]\n",
    "sites = Site.objects.all()"
   ]
  },
  {
   "cell_type": "code",
   "execution_count": null,
   "metadata": {},
   "outputs": [],
   "source": [
    "# store cadastral_comunitey-lau2name for sites without polys\n",
    "cc = []\n",
    "for x in sites:\n",
    "    hansi = {}\n",
    "    hansi['site_id'] = x.id\n",
    "    hansi['ccs'] = []\n",
    "    for y in x.cadastral_community.all():\n",
    "        hansi['ccs'].append(y.lau2_id)\n",
    "    hansi['ccs'] = list(set(hansi['ccs']))\n",
    "    cc.append(hansi)\n",
    "cc[0]"
   ]
  },
  {
   "cell_type": "code",
   "execution_count": null,
   "metadata": {},
   "outputs": [],
   "source": [
    "df = pd.DataFrame(cc)"
   ]
  },
  {
   "cell_type": "code",
   "execution_count": null,
   "metadata": {},
   "outputs": [],
   "source": [
    "df.to_csv('sites_cc.csv')"
   ]
  },
  {
   "cell_type": "code",
   "execution_count": null,
   "metadata": {},
   "outputs": [],
   "source": [
    "# copy sau_nam to sm_adm if this field is empty\n",
    "for x in sites:\n",
    "    if x.sm_adm:\n",
    "        smlst = x.sm_adm\n",
    "    else:\n",
    "        smlst = \"; \".join([y.saunam for y in x.cadastral_community.all()])\n",
    "        if smlst:\n",
    "            pass\n",
    "        else:\n",
    "            smlst = \"; \".join([y.lau2nam for y in x.cadastral_community.all()])\n",
    "    x.sm_adm = smlst\n",
    "    x.save()\n",
    "    print(\"Site: {}; smlst: {}\".format(x.id, smlst))"
   ]
  },
  {
   "cell_type": "code",
   "execution_count": null,
   "metadata": {},
   "outputs": [],
   "source": [
    "# delete current municipalities\n",
    "Municipality.objects.all().delete()"
   ]
  },
  {
   "cell_type": "code",
   "execution_count": null,
   "metadata": {},
   "outputs": [],
   "source": [
    "# import new shapes\n",
    "from shapes.load import import_shapes\n",
    "import_shapes()"
   ]
  },
  {
   "cell_type": "code",
   "execution_count": null,
   "metadata": {},
   "outputs": [],
   "source": [
    "# hook sites to municipalities by spatial lookup deprecated in favor of lau2_id match\n",
    "# for x in sites:\n",
    "#     if x.centroid:\n",
    "#         admus = Municipality.objects.filter(geom__contains=x.centroid)\n",
    "#         x.cadastral_community.set(admus)"
   ]
  },
  {
   "cell_type": "code",
   "execution_count": null,
   "metadata": {
    "scrolled": true
   },
   "outputs": [],
   "source": [
    "lau_df = pd.read_csv('sites_cc.csv', converters={\"ccs\": lambda x: x.strip(\"[]\").replace('\\'', '')})\n",
    "lau_df"
   ]
  },
  {
   "cell_type": "code",
   "execution_count": null,
   "metadata": {},
   "outputs": [],
   "source": [
    "for i, row in lau_df.iterrows():\n",
    "    site = Site.objects.get(id=row['site_id'])\n",
    "    ccs = []\n",
    "    for x in row['ccs'].split(','):\n",
    "        lau_id = x.strip()\n",
    "        if lau_id:\n",
    "            try:\n",
    "#                 print(Municipality.objects.get(lau2_id=x))\n",
    "                ccs.append(Municipality.objects.get(lau2_id=lau_id))\n",
    "            except Exception as e:\n",
    "                print(e)\n",
    "                print(\"FEHLER at Site: {};  LAU2_ID: {}\".format(site.id, x.strip()))\n",
    "    site.cadastral_community.set(ccs)"
   ]
  },
  {
   "cell_type": "code",
   "execution_count": null,
   "metadata": {},
   "outputs": [],
   "source": []
  }
 ],
 "metadata": {
  "kernelspec": {
   "display_name": "Django Shell-Plus",
   "language": "python",
   "name": "django_extensions"
  },
  "language_info": {
   "codemirror_mode": {
    "name": "ipython",
    "version": 3
   },
   "file_extension": ".py",
   "mimetype": "text/x-python",
   "name": "python",
   "nbconvert_exporter": "python",
   "pygments_lexer": "ipython3",
   "version": "3.6.6"
  }
 },
 "nbformat": 4,
 "nbformat_minor": 2
}
